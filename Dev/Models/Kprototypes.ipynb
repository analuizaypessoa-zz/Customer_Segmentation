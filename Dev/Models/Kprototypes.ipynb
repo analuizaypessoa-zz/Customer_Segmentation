{
 "cells": [
  {
   "cell_type": "code",
   "execution_count": 35,
   "metadata": {},
   "outputs": [],
   "source": [
    "### Import Packages\n",
    "from kmodes.kprototypes import KPrototypes\n",
    "from kmodes.kmodes import KModes\n",
    "from sklearn.preprocessing import MinMaxScaler\n",
    "import pandas as pd\n",
    "import numpy as np\n",
    "import pickle\n",
    "import time\n",
    "import matplotlib.pyplot as plt"
   ]
  },
  {
   "cell_type": "code",
   "execution_count": 3,
   "metadata": {},
   "outputs": [],
   "source": [
    "chunksize = 10**6"
   ]
  },
  {
   "cell_type": "code",
   "execution_count": 64,
   "metadata": {},
   "outputs": [
    {
     "name": "stderr",
     "output_type": "stream",
     "text": [
      "/Users/analuizapessoa/anaconda3/lib/python3.7/site-packages/ipykernel_launcher.py:1: FutureWarning: read_table is deprecated, use read_csv instead.\n",
      "  \"\"\"Entry point for launching an IPython kernel.\n"
     ]
    }
   ],
   "source": [
    "rt = pd.read_table(\"./Inputs/Cleaned/df.csv\", chunksize = chunksize,  sep = \",\", low_memory = False)"
   ]
  },
  {
   "cell_type": "code",
   "execution_count": 11,
   "metadata": {},
   "outputs": [],
   "source": [
    "df = pd.concat(rt,ignore_index = True)"
   ]
  },
  {
   "cell_type": "code",
   "execution_count": 12,
   "metadata": {},
   "outputs": [
    {
     "data": {
      "text/html": [
       "<div>\n",
       "<style scoped>\n",
       "    .dataframe tbody tr th:only-of-type {\n",
       "        vertical-align: middle;\n",
       "    }\n",
       "\n",
       "    .dataframe tbody tr th {\n",
       "        vertical-align: top;\n",
       "    }\n",
       "\n",
       "    .dataframe thead th {\n",
       "        text-align: right;\n",
       "    }\n",
       "</style>\n",
       "<table border=\"1\" class=\"dataframe\">\n",
       "  <thead>\n",
       "    <tr style=\"text-align: right;\">\n",
       "      <th></th>\n",
       "      <th>GENDER</th>\n",
       "      <th>AGE</th>\n",
       "      <th>EMPLOYMENT</th>\n",
       "      <th>INCOME</th>\n",
       "      <th>FREQUENCY_VISIT</th>\n",
       "      <th>HOW_DO_YOU_ENJOY_STARBUCKS</th>\n",
       "      <th>TIME_PER_VISIT</th>\n",
       "      <th>DISTANCE_TO_NEAREST_STORE</th>\n",
       "      <th>MEMBER</th>\n",
       "      <th>SPEND_PER_VISIT</th>\n",
       "      <th>...</th>\n",
       "      <th>FG_jawschip</th>\n",
       "      <th>FG_juices</th>\n",
       "      <th>FG_never</th>\n",
       "      <th>FG_pastries</th>\n",
       "      <th>FG_sandwiches</th>\n",
       "      <th>FG_DIGITAL_MEDIA</th>\n",
       "      <th>FG_STARBUCKS_WEBSITE</th>\n",
       "      <th>FG_EMAIL</th>\n",
       "      <th>FG_FRIENDS</th>\n",
       "      <th>FG_FISIC</th>\n",
       "    </tr>\n",
       "  </thead>\n",
       "  <tbody>\n",
       "    <tr>\n",
       "      <th>0</th>\n",
       "      <td>Female</td>\n",
       "      <td>From 20 to 29</td>\n",
       "      <td>Student</td>\n",
       "      <td>Less than RM25,000</td>\n",
       "      <td>Rarely</td>\n",
       "      <td>Dine in</td>\n",
       "      <td>Between 30 minutes to 1 hour</td>\n",
       "      <td>within 1km</td>\n",
       "      <td>Yes</td>\n",
       "      <td>Less than RM20</td>\n",
       "      <td>...</td>\n",
       "      <td>0</td>\n",
       "      <td>0</td>\n",
       "      <td>0</td>\n",
       "      <td>0</td>\n",
       "      <td>0</td>\n",
       "      <td>1</td>\n",
       "      <td>1</td>\n",
       "      <td>1</td>\n",
       "      <td>0</td>\n",
       "      <td>0</td>\n",
       "    </tr>\n",
       "    <tr>\n",
       "      <th>1</th>\n",
       "      <td>Female</td>\n",
       "      <td>From 20 to 29</td>\n",
       "      <td>Student</td>\n",
       "      <td>Less than RM25,000</td>\n",
       "      <td>Rarely</td>\n",
       "      <td>Take away</td>\n",
       "      <td>Below 30 minutes</td>\n",
       "      <td>1km - 3km</td>\n",
       "      <td>Yes</td>\n",
       "      <td>Less than RM20</td>\n",
       "      <td>...</td>\n",
       "      <td>0</td>\n",
       "      <td>0</td>\n",
       "      <td>0</td>\n",
       "      <td>1</td>\n",
       "      <td>0</td>\n",
       "      <td>1</td>\n",
       "      <td>0</td>\n",
       "      <td>0</td>\n",
       "      <td>0</td>\n",
       "      <td>1</td>\n",
       "    </tr>\n",
       "    <tr>\n",
       "      <th>2</th>\n",
       "      <td>Male</td>\n",
       "      <td>From 20 to 29</td>\n",
       "      <td>Employed</td>\n",
       "      <td>Less than RM25,000</td>\n",
       "      <td>Monthly</td>\n",
       "      <td>Dine in</td>\n",
       "      <td>Between 30 minutes to 1 hour</td>\n",
       "      <td>more than 3km</td>\n",
       "      <td>Yes</td>\n",
       "      <td>Less than RM20</td>\n",
       "      <td>...</td>\n",
       "      <td>0</td>\n",
       "      <td>0</td>\n",
       "      <td>0</td>\n",
       "      <td>0</td>\n",
       "      <td>0</td>\n",
       "      <td>0</td>\n",
       "      <td>0</td>\n",
       "      <td>0</td>\n",
       "      <td>0</td>\n",
       "      <td>1</td>\n",
       "    </tr>\n",
       "    <tr>\n",
       "      <th>3</th>\n",
       "      <td>Female</td>\n",
       "      <td>From 20 to 29</td>\n",
       "      <td>Student</td>\n",
       "      <td>Less than RM25,000</td>\n",
       "      <td>Rarely</td>\n",
       "      <td>Take away</td>\n",
       "      <td>Below 30 minutes</td>\n",
       "      <td>more than 3km</td>\n",
       "      <td>No</td>\n",
       "      <td>Less than RM20</td>\n",
       "      <td>...</td>\n",
       "      <td>0</td>\n",
       "      <td>0</td>\n",
       "      <td>0</td>\n",
       "      <td>0</td>\n",
       "      <td>0</td>\n",
       "      <td>0</td>\n",
       "      <td>0</td>\n",
       "      <td>0</td>\n",
       "      <td>1</td>\n",
       "      <td>0</td>\n",
       "    </tr>\n",
       "    <tr>\n",
       "      <th>4</th>\n",
       "      <td>Male</td>\n",
       "      <td>From 20 to 29</td>\n",
       "      <td>Student</td>\n",
       "      <td>Less than RM25,000</td>\n",
       "      <td>Monthly</td>\n",
       "      <td>Take away</td>\n",
       "      <td>Between 30 minutes to 1 hour</td>\n",
       "      <td>1km - 3km</td>\n",
       "      <td>No</td>\n",
       "      <td>Around RM20 - RM40</td>\n",
       "      <td>...</td>\n",
       "      <td>0</td>\n",
       "      <td>0</td>\n",
       "      <td>0</td>\n",
       "      <td>0</td>\n",
       "      <td>1</td>\n",
       "      <td>1</td>\n",
       "      <td>1</td>\n",
       "      <td>0</td>\n",
       "      <td>0</td>\n",
       "      <td>0</td>\n",
       "    </tr>\n",
       "  </tbody>\n",
       "</table>\n",
       "<p>5 rows × 31 columns</p>\n",
       "</div>"
      ],
      "text/plain": [
       "   GENDER            AGE EMPLOYMENT              INCOME FREQUENCY_VISIT  \\\n",
       "0  Female  From 20 to 29    Student  Less than RM25,000          Rarely   \n",
       "1  Female  From 20 to 29    Student  Less than RM25,000          Rarely   \n",
       "2    Male  From 20 to 29   Employed  Less than RM25,000         Monthly   \n",
       "3  Female  From 20 to 29    Student  Less than RM25,000          Rarely   \n",
       "4    Male  From 20 to 29    Student  Less than RM25,000         Monthly   \n",
       "\n",
       "  HOW_DO_YOU_ENJOY_STARBUCKS                TIME_PER_VISIT  \\\n",
       "0                    Dine in  Between 30 minutes to 1 hour   \n",
       "1                  Take away              Below 30 minutes   \n",
       "2                    Dine in  Between 30 minutes to 1 hour   \n",
       "3                  Take away              Below 30 minutes   \n",
       "4                  Take away  Between 30 minutes to 1 hour   \n",
       "\n",
       "  DISTANCE_TO_NEAREST_STORE MEMBER     SPEND_PER_VISIT  ...  FG_jawschip  \\\n",
       "0                within 1km    Yes      Less than RM20  ...            0   \n",
       "1                 1km - 3km    Yes      Less than RM20  ...            0   \n",
       "2             more than 3km    Yes      Less than RM20  ...            0   \n",
       "3             more than 3km     No      Less than RM20  ...            0   \n",
       "4                 1km - 3km     No  Around RM20 - RM40  ...            0   \n",
       "\n",
       "   FG_juices  FG_never  FG_pastries  FG_sandwiches  FG_DIGITAL_MEDIA  \\\n",
       "0          0         0            0              0                 1   \n",
       "1          0         0            1              0                 1   \n",
       "2          0         0            0              0                 0   \n",
       "3          0         0            0              0                 0   \n",
       "4          0         0            0              1                 1   \n",
       "\n",
       "   FG_STARBUCKS_WEBSITE FG_EMAIL  FG_FRIENDS  FG_FISIC  \n",
       "0                     1        1           0         0  \n",
       "1                     0        0           0         1  \n",
       "2                     0        0           0         1  \n",
       "3                     0        0           1         0  \n",
       "4                     1        0           0         0  \n",
       "\n",
       "[5 rows x 31 columns]"
      ]
     },
     "execution_count": 12,
     "metadata": {},
     "output_type": "execute_result"
    }
   ],
   "source": [
    "df.head()"
   ]
  },
  {
   "cell_type": "code",
   "execution_count": 13,
   "metadata": {},
   "outputs": [],
   "source": [
    "pd.set_option('display.float_format', lambda x: '%.5f'% x)"
   ]
  },
  {
   "cell_type": "code",
   "execution_count": 15,
   "metadata": {},
   "outputs": [],
   "source": [
    "df.reset_index(drop = True, inplace = True)"
   ]
  },
  {
   "cell_type": "code",
   "execution_count": 16,
   "metadata": {},
   "outputs": [
    {
     "data": {
      "text/plain": [
       "Index(['GENDER', 'AGE', 'EMPLOYMENT', 'INCOME', 'FREQUENCY_VISIT',\n",
       "       'HOW_DO_YOU_ENJOY_STARBUCKS', 'TIME_PER_VISIT',\n",
       "       'DISTANCE_TO_NEAREST_STORE', 'MEMBER', 'SPEND_PER_VISIT', 'QUALITY_EV',\n",
       "       'PRICE_EV', 'PROMOTIONS_EV', 'AMBIANCE_EV', 'WIFI_EV', 'SERVICE_EV',\n",
       "       'BUSINESS_OR_FRIENDS', 'POTENTIAL_CLIENT', 'FG_cake', 'FG_coffee',\n",
       "       'FG_colddrinks', 'FG_jawschip', 'FG_juices', 'FG_never', 'FG_pastries',\n",
       "       'FG_sandwiches', 'FG_DIGITAL_MEDIA', 'FG_STARBUCKS_WEBSITE', 'FG_EMAIL',\n",
       "       'FG_FRIENDS', 'FG_FISIC'],\n",
       "      dtype='object')"
      ]
     },
     "execution_count": 16,
     "metadata": {},
     "output_type": "execute_result"
    }
   ],
   "source": [
    "df.columns"
   ]
  },
  {
   "cell_type": "code",
   "execution_count": 25,
   "metadata": {},
   "outputs": [],
   "source": [
    "### normalize numerical inputs\n",
    "scaler = MinMaxScaler()\n",
    "x_scaled = scaler.fit_transform(df[['QUALITY_EV',\n",
    "       'PRICE_EV', 'PROMOTIONS_EV', 'AMBIANCE_EV', 'WIFI_EV', 'SERVICE_EV']].values)\n",
    "df[['QUALITY_EV',\n",
    "       'PRICE_EV', 'PROMOTIONS_EV', 'AMBIANCE_EV', 'WIFI_EV', 'SERVICE_EV']] = pd.DataFrame(x_scaled)"
   ]
  },
  {
   "cell_type": "code",
   "execution_count": 54,
   "metadata": {},
   "outputs": [
    {
     "name": "stdout",
     "output_type": "stream",
     "text": [
      "---cluster =  39 did not converge\n",
      "--- 14.419448852539062 seconds ---\n"
     ]
    }
   ],
   "source": [
    "### Finding the optimal number of cluster  \n",
    "## colocar um erro para nao convergencia\n",
    "start_time = time.time()\n",
    "kp_cost = []\n",
    "K = list(range(1, 40)) ## number of clusters\n",
    "for k in K:\n",
    "    try:\n",
    "        kp = KPrototypes(n_clusters=k, init='Huang', n_init=1, verbose=False)\n",
    "        kp.fit_predict(df, categorical=[0,1,2,3,4,5,6,7,8,9,16,17,18,19,20,21,22,23,24,25,26,27,28,29,30])\n",
    "        kp_cost.append(kp.cost_)\n",
    "    except:\n",
    "        print(\"---cluster =  %s did not converge\"% k)\n",
    "        K.pop(k - 1)\n",
    "print(\"--- %s seconds ---\" % (time.time() - start_time))"
   ]
  },
  {
   "cell_type": "code",
   "execution_count": 56,
   "metadata": {},
   "outputs": [
    {
     "data": {
      "image/png": "[encoded data removed]",
      "text/plain": [
       "<Figure size 432x288 with 1 Axes>"
      ]
     },
     "metadata": {
      "needs_background": "light"
     },
     "output_type": "display_data"
    }
   ],
   "source": [
    "## Find the elbow\n",
    "plt.plot(K, kp_cost)\n",
    "plt.ylabel('KP - COST')\n",
    "plt.xlabel('N Clusters')\n",
    "plt.show()"
   ]
  },
  {
   "cell_type": "code",
   "execution_count": null,
   "metadata": {},
   "outputs": [],
   "source": [
    "### running the modelwith 10 clusters (hugest change in the slope)"
   ]
  },
  {
   "cell_type": "code",
   "execution_count": 57,
   "metadata": {},
   "outputs": [
    {
     "name": "stdout",
     "output_type": "stream",
     "text": [
      "Init: initializing centroids\n",
      "Init: initializing clusters\n",
      "Starting iterations...\n",
      "Run: 1, iteration: 1/100, moves: 37, ncost: 114.30395757023238\n",
      "Run: 1, iteration: 2/100, moves: 19, ncost: 110.57445053456328\n",
      "Run: 1, iteration: 3/100, moves: 5, ncost: 109.90442848550892\n",
      "Run: 1, iteration: 4/100, moves: 0, ncost: 109.90442848550892\n",
      "Init: initializing centroids\n",
      "Init: initializing clusters\n",
      "Starting iterations...\n",
      "Run: 2, iteration: 1/100, moves: 44, ncost: 117.12756789528\n",
      "Run: 2, iteration: 2/100, moves: 22, ncost: 113.810044841372\n",
      "Run: 2, iteration: 3/100, moves: 3, ncost: 113.21562148879326\n",
      "Run: 2, iteration: 4/100, moves: 8, ncost: 111.9334685431357\n",
      "Run: 2, iteration: 5/100, moves: 5, ncost: 110.91761092379018\n",
      "Run: 2, iteration: 6/100, moves: 4, ncost: 110.61648326170449\n",
      "Run: 2, iteration: 7/100, moves: 2, ncost: 110.32113556694301\n",
      "Run: 2, iteration: 8/100, moves: 2, ncost: 109.95142171098679\n",
      "Run: 2, iteration: 9/100, moves: 0, ncost: 109.95142171098679\n",
      "Init: initializing centroids\n",
      "Init: initializing clusters\n",
      "Starting iterations...\n",
      "Run: 3, iteration: 1/100, moves: 44, ncost: 111.70211636086532\n",
      "Run: 3, iteration: 2/100, moves: 24, ncost: 108.45815895113142\n",
      "Run: 3, iteration: 3/100, moves: 5, ncost: 108.15373991275834\n",
      "Run: 3, iteration: 4/100, moves: 0, ncost: 108.15373991275834\n",
      "Best run was number 3\n",
      "--- 0.8241560459136963 seconds ---\n"
     ]
    }
   ],
   "source": [
    "start_time = time.time()\n",
    "kp = KPrototypes(n_clusters=10, init='Huang', n_init=3, verbose=True)\n",
    "kp.fit_predict(df, categorical=[0,1,2,3,4,5,6,7,8,9,16,17,18,19,20,21,22,23,24,25,26,27,28,29,30])\n",
    "print(\"--- %s seconds ---\" % (time.time() - start_time))"
   ]
  },
  {
   "cell_type": "code",
   "execution_count": 66,
   "metadata": {},
   "outputs": [],
   "source": [
    "Labels = kp.labels_"
   ]
  },
  {
   "cell_type": "code",
   "execution_count": 60,
   "metadata": {},
   "outputs": [],
   "source": [
    "#### Store the model binary for future usage\n",
    "with open('./Outputs/Binaries/kprototypes.pickle', 'wb') as f:\n",
    "    pickle.dump(kp, f)"
   ]
  },
  {
   "cell_type": "code",
   "execution_count": 63,
   "metadata": {},
   "outputs": [
    {
     "name": "stderr",
     "output_type": "stream",
     "text": [
      "/Users/analuizapessoa/anaconda3/lib/python3.7/site-packages/ipykernel_launcher.py:2: FutureWarning: read_table is deprecated, use read_csv instead.\n",
      "  \n"
     ]
    }
   ],
   "source": [
    "### de normalize the data set to retrieve full output\n",
    "rt = pd.read_table(\"./Inputs/Cleaned/df.csv\", chunksize = chunksize,  sep = \",\", low_memory = False)"
   ]
  },
  {
   "cell_type": "code",
   "execution_count": 65,
   "metadata": {},
   "outputs": [],
   "source": [
    "df_final = pd.concat(rt,ignore_index = True)"
   ]
  },
  {
   "cell_type": "code",
   "execution_count": 67,
   "metadata": {},
   "outputs": [],
   "source": [
    "df_final['Labels'] = Labels"
   ]
  },
  {
   "cell_type": "code",
   "execution_count": 69,
   "metadata": {},
   "outputs": [],
   "source": [
    "df_final.to_csv('./Outputs/modelv1.csv', index = False)"
   ]
  },
  {
   "cell_type": "code",
   "execution_count": null,
   "metadata": {},
   "outputs": [],
   "source": []
  }
 ],
 "metadata": {
  "kernelspec": {
   "display_name": "Python 3",
   "language": "python",
   "name": "python3"
  },
  "language_info": {
   "codemirror_mode": {
    "name": "ipython",
    "version": 3
   },
   "file_extension": ".py",
   "mimetype": "text/x-python",
   "name": "python",
   "nbconvert_exporter": "python",
   "pygments_lexer": "ipython3",
   "version": "3.7.3"
  }
 },
 "nbformat": 4,
 "nbformat_minor": 2
}
