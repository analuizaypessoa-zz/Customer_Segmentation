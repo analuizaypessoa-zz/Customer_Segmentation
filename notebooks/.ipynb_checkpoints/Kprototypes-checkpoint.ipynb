{
 "cells": [
  {
   "cell_type": "markdown",
   "metadata": {},
   "source": [
    "### Load Modules"
   ]
  },
  {
   "cell_type": "code",
   "execution_count": 6,
   "metadata": {},
   "outputs": [],
   "source": [
    "from kmodes.kprototypes import KPrototypes\n",
    "from kmodes.kmodes import KModes\n",
    "from sklearn.preprocessing import MinMaxScaler\n",
    "import pandas as pd\n",
    "import numpy as np\n",
    "import pickle\n",
    "import time\n",
    "import matplotlib.pyplot as plt"
   ]
  },
  {
   "cell_type": "code",
   "execution_count": 13,
   "metadata": {},
   "outputs": [],
   "source": [
    "##### option to remove scientific notation\n",
    "pd.set_option('display.float_format', lambda x: '%.5f'% x)"
   ]
  },
  {
   "cell_type": "markdown",
   "metadata": {},
   "source": [
    "### Load Data"
   ]
  },
  {
   "cell_type": "code",
   "execution_count": 12,
   "metadata": {},
   "outputs": [],
   "source": [
    "chunksize = 10**6"
   ]
  },
  {
   "cell_type": "code",
   "execution_count": 13,
   "metadata": {},
   "outputs": [],
   "source": [
    "rt = pd.read_table(\"../Data/Cleaned/df.csv\", chunksize = chunksize,  sep = \",\", low_memory = False)"
   ]
  },
  {
   "cell_type": "code",
   "execution_count": 14,
   "metadata": {},
   "outputs": [],
   "source": [
    "df = pd.concat(rt,ignore_index = True)"
   ]
  },
  {
   "cell_type": "code",
   "execution_count": 15,
   "metadata": {},
   "outputs": [],
   "source": [
    "df.reset_index(drop = True, inplace = True)"
   ]
  },
  {
   "cell_type": "markdown",
   "metadata": {},
   "source": [
    "### Normalize numerical inputs"
   ]
  },
  {
   "cell_type": "code",
   "execution_count": 9,
   "metadata": {},
   "outputs": [],
   "source": [
    "### normalize numerical inputs\n",
    "scaler = MinMaxScaler()\n",
    "x_scaled = scaler.fit_transform(df[['QUALITY_EV',\n",
    "       'PRICE_EV', 'PROMOTIONS_EV', 'AMBIANCE_EV', 'WIFI_EV', 'SERVICE_EV']].values)\n",
    "df[['QUALITY_EV',\n",
    "       'PRICE_EV', 'PROMOTIONS_EV', 'AMBIANCE_EV', 'WIFI_EV', 'SERVICE_EV']] = pd.DataFrame(x_scaled)"
   ]
  },
  {
   "cell_type": "markdown",
   "metadata": {},
   "source": [
    "### Find optimal number of clusters with elbow method"
   ]
  },
  {
   "cell_type": "code",
   "execution_count": 39,
   "metadata": {},
   "outputs": [
    {
     "name": "stdout",
     "output_type": "stream",
     "text": [
      "---cluster =  26 did not converge\n",
      "---cluster =  28 did not converge\n",
      "---cluster =  29 did not converge\n",
      "--- 10.440952777862549 seconds ---\n"
     ]
    }
   ],
   "source": [
    "### Finding the optimal number of cluster  \n",
    "start_time = time.time()\n",
    "kp_cost = []\n",
    "K = [] \n",
    "for k in list(range(1, 30)):\n",
    "    try:\n",
    "        kp = KPrototypes(n_clusters=k, init='Huang', n_init=1, verbose=False)\n",
    "        kp.fit_predict(df, categorical=[0,1,2,3,4,5,6,7,8,9,17])\n",
    "        kp_cost.append(kp.cost_)\n",
    "        K.append(k)\n",
    "    except:\n",
    "        print(\"---cluster =  %s did not converge\"% k)\n",
    "\n",
    "print(\"--- %s seconds ---\" % (time.time() - start_time))"
   ]
  },
  {
   "cell_type": "code",
   "execution_count": 41,
   "metadata": {},
   "outputs": [
    {
     "data": {
      "image/png": "[encoded data removed]",
      "text/plain": [
       "<Figure size 432x288 with 1 Axes>"
      ]
     },
     "metadata": {
      "needs_background": "light"
     },
     "output_type": "display_data"
    }
   ],
   "source": [
    "## Find the elbow\n",
    "plt.plot(K, kp_cost)\n",
    "plt.ylabel('KP - COST')\n",
    "plt.xlabel('N Clusters')\n",
    "plt.show()"
   ]
  },
  {
   "cell_type": "markdown",
   "metadata": {},
   "source": [
    "### Running the modelwith 10 clusters (hugest change in the slope)"
   ]
  },
  {
   "cell_type": "code",
   "execution_count": 42,
   "metadata": {},
   "outputs": [
    {
     "name": "stdout",
     "output_type": "stream",
     "text": [
      "Init: initializing centroids\n",
      "Init: initializing clusters\n",
      "Starting iterations...\n",
      "Run: 1, iteration: 1/100, moves: 40, ncost: 972.6832098871664\n",
      "Run: 1, iteration: 2/100, moves: 17, ncost: 930.0830506299985\n",
      "Run: 1, iteration: 3/100, moves: 14, ncost: 901.719058033978\n",
      "Run: 1, iteration: 4/100, moves: 2, ncost: 900.0939041749716\n",
      "Run: 1, iteration: 5/100, moves: 1, ncost: 899.1737779014227\n",
      "Run: 1, iteration: 6/100, moves: 0, ncost: 899.1737779014227\n",
      "Init: initializing centroids\n",
      "Init: initializing clusters\n",
      "Starting iterations...\n",
      "Run: 2, iteration: 1/100, moves: 35, ncost: 979.7509033106858\n",
      "Run: 2, iteration: 2/100, moves: 10, ncost: 961.149151141757\n",
      "Run: 2, iteration: 3/100, moves: 3, ncost: 957.8171676440735\n",
      "Run: 2, iteration: 4/100, moves: 0, ncost: 957.8171676440735\n",
      "Init: initializing centroids\n",
      "Init: initializing clusters\n",
      "Init: initializing centroids\n",
      "Init: initializing clusters\n",
      "Init: initializing centroids\n",
      "Init: initializing clusters\n",
      "Starting iterations...\n",
      "Run: 3, iteration: 1/100, moves: 48, ncost: 955.3378198351052\n",
      "Run: 3, iteration: 2/100, moves: 19, ncost: 921.2032927156848\n",
      "Run: 3, iteration: 3/100, moves: 2, ncost: 920.2356046781573\n",
      "Run: 3, iteration: 4/100, moves: 0, ncost: 920.2356046781573\n",
      "Best run was number 1\n",
      "--- 0.508228063583374 seconds ---\n"
     ]
    }
   ],
   "source": [
    "start_time = time.time()\n",
    "kp = KPrototypes(n_clusters=10, init='Huang', n_init=3, verbose=True)\n",
    "kp.fit_predict(df, categorical=[0,1,2,3,4,5,6,7,8,9,17])\n",
    "print(\"--- %s seconds ---\" % (time.time() - start_time))"
   ]
  },
  {
   "cell_type": "code",
   "execution_count": 43,
   "metadata": {},
   "outputs": [],
   "source": [
    "Labels = kp.labels_"
   ]
  },
  {
   "cell_type": "code",
   "execution_count": 44,
   "metadata": {},
   "outputs": [],
   "source": [
    "#### Store the model binary for future usage\n",
    "with open('../Bin/kprototypes.pickle', 'wb') as f:\n",
    "    pickle.dump(kp, f)"
   ]
  },
  {
   "cell_type": "code",
   "execution_count": 45,
   "metadata": {},
   "outputs": [],
   "source": [
    "### de normalize the data set to retrieve full output\n",
    "rt = pd.read_table(\"../Data/Cleaned/df.csv\", chunksize = chunksize,  sep = \",\", low_memory = False)"
   ]
  },
  {
   "cell_type": "code",
   "execution_count": 46,
   "metadata": {},
   "outputs": [],
   "source": [
    "df_final = pd.concat(rt,ignore_index = True)"
   ]
  },
  {
   "cell_type": "code",
   "execution_count": 47,
   "metadata": {},
   "outputs": [],
   "source": [
    "df_final['Labels'] = Labels"
   ]
  },
  {
   "cell_type": "code",
   "execution_count": 48,
   "metadata": {},
   "outputs": [],
   "source": [
    "df_final.to_csv('../Outputs/model_13_03_21.csv', index = False)"
   ]
  }
 ],
 "metadata": {
  "kernelspec": {
   "display_name": "customer_segmentation",
   "language": "python",
   "name": "customer_segmentation"
  },
  "language_info": {
   "codemirror_mode": {
    "name": "ipython",
    "version": 3
   },
   "file_extension": ".py",
   "mimetype": "text/x-python",
   "name": "python",
   "nbconvert_exporter": "python",
   "pygments_lexer": "ipython3",
   "version": "3.8.5"
  }
 },
 "nbformat": 4,
 "nbformat_minor": 2
}
