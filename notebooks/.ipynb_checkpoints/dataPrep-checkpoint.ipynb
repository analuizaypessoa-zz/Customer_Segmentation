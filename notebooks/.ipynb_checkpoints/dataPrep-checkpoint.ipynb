{
 "cells": [
  {
   "cell_type": "markdown",
   "metadata": {},
   "source": [
    "### Load Modules"
   ]
  },
  {
   "cell_type": "code",
   "execution_count": 1,
   "metadata": {},
   "outputs": [],
   "source": [
    "import pandas as pd \n",
    "import numpy as np\n",
    "import pickle\n",
    "from matplotlib import pyplot as plt\n",
    "import seaborn as sns\n",
    "import time"
   ]
  },
  {
   "cell_type": "markdown",
   "metadata": {},
   "source": [
    "### Load Data "
   ]
  },
  {
   "cell_type": "code",
   "execution_count": 2,
   "metadata": {},
   "outputs": [],
   "source": [
    "#### Loading starbucks files\n",
    "df_raw = pd.read_csv(\"../Data/Raw/starbucks_dataset_raw.csv\")"
   ]
  },
  {
   "cell_type": "markdown",
   "metadata": {},
   "source": [
    "### Cleaning"
   ]
  },
  {
   "cell_type": "code",
   "execution_count": 3,
   "metadata": {},
   "outputs": [],
   "source": [
    "#### drop time for cluster analysis  (short period)\n",
    "df_raw.drop(['Timestamp'], axis = 1, inplace = True)"
   ]
  },
  {
   "cell_type": "code",
   "execution_count": 4,
   "metadata": {},
   "outputs": [],
   "source": [
    "### renaming taxonomy\n",
    "df_raw.columns = ['GENDER', 'AGE',\n",
    "       'EMPLOYMENT', 'INCOME',\n",
    "       'FREQUENCY_VISIT',\n",
    "       'HOW_DO_YOU_ENJOY_STARBUCKS',\n",
    "       'TIME_PER_VISIT',\n",
    "       'DISTANCE_TO_NEAREST_STORE',\n",
    "       'MEMBER',\n",
    "       'PRODUCT_CATEGORY',\n",
    "       'SPEND_PER_VISIT',\n",
    "       'QUALITY_EV',\n",
    "       'PRICE_EV',\n",
    "       'PROMOTIONS_EV',\n",
    "       'AMBIANCE_EV',\n",
    "       'WIFI_EV',\n",
    "       'SERVICE_EV',\n",
    "       'BUSINESS_OR_FRIENDS',\n",
    "       'PROMOTIONS_KNOW',\n",
    "       'POTENTIAL_CLIENT']"
   ]
  },
  {
   "cell_type": "markdown",
   "metadata": {},
   "source": [
    "#### CLEANING MULTIPLE ANSWER QUESTIONS (categories)"
   ]
  },
  {
   "cell_type": "code",
   "execution_count": 6,
   "metadata": {},
   "outputs": [
    {
     "data": {
      "text/plain": [
       "array(['Coffee', 'Cold drinks;Pastries', 'Coffee;Sandwiches',\n",
       "       'Cold drinks', 'Coffee;Cold drinks',\n",
       "       'Cold drinks;Pastries;Sandwiches',\n",
       "       'Coffee;Juices;Pastries;Sandwiches', 'Coffee;Pastries;Sandwiches',\n",
       "       'Coffee;Pastries', 'Cold drinks;Juices;Pastries',\n",
       "       'Coffee;Cold drinks;Pastries;Sandwiches', 'Never', 'Never buy any',\n",
       "       'Jaws chip ', 'cake ', 'Pastries', 'Cold drinks;Never', 'never',\n",
       "       'Nothing ', 'Coffee;Cold drinks;Juices;Pastries;Sandwiches'],\n",
       "      dtype=object)"
      ]
     },
     "execution_count": 6,
     "metadata": {},
     "output_type": "execute_result"
    }
   ],
   "source": [
    "#### product category\n",
    "df_raw['PRODUCT_CATEGORY'].unique()"
   ]
  },
  {
   "cell_type": "code",
   "execution_count": 7,
   "metadata": {},
   "outputs": [],
   "source": [
    "df_raw['PRODUCT_CATEGORY'] = df_raw['PRODUCT_CATEGORY'].apply(lambda x: x.replace(\" \", \"\")) ## remove spaces\n",
    "df_raw['PRODUCT_CATEGORY'] = df_raw['PRODUCT_CATEGORY'].apply(lambda x: x.lower()) ## lower case\n",
    "df_raw.loc[df_raw['PRODUCT_CATEGORY'].str.contains('never'), 'PRODUCT_CATEGORY'] = 'never'\n",
    "df_raw.loc[df_raw['PRODUCT_CATEGORY'].str.contains('noth'), 'PRODUCT_CATEGORY'] = 'never'\n",
    "### Passing results that have a negative meaning to a special "
   ]
  },
  {
   "cell_type": "code",
   "execution_count": 8,
   "metadata": {},
   "outputs": [
    {
     "data": {
      "text/plain": [
       "Index(['cake', 'coffee', 'colddrinks', 'jawschip', 'juices', 'never',\n",
       "       'pastries', 'sandwiches'],\n",
       "      dtype='object')"
      ]
     },
     "execution_count": 8,
     "metadata": {},
     "output_type": "execute_result"
    }
   ],
   "source": [
    " df_raw['PRODUCT_CATEGORY'].str.get_dummies(sep=';').columns"
   ]
  },
  {
   "cell_type": "code",
   "execution_count": 9,
   "metadata": {},
   "outputs": [],
   "source": [
    "df_raw[['FG_cake', 'FG_coffee', 'FG_colddrinks', 'FG_jawschip', 'FG_juices', 'FG_never',\n",
    "       'FG_pastries', 'FG_sandwiches']] = df_raw['PRODUCT_CATEGORY'].str.get_dummies(sep=';')"
   ]
  },
  {
   "cell_type": "code",
   "execution_count": 10,
   "metadata": {},
   "outputs": [],
   "source": [
    "df_raw.drop('PRODUCT_CATEGORY', axis = 1, inplace = True)"
   ]
  },
  {
   "cell_type": "code",
   "execution_count": 11,
   "metadata": {},
   "outputs": [],
   "source": [
    "df_raw['PROMOTIONS_KNOW']  = df_raw['PROMOTIONS_KNOW'].astype(str)"
   ]
  },
  {
   "cell_type": "code",
   "execution_count": 12,
   "metadata": {},
   "outputs": [],
   "source": [
    "#### BUILDING A DUMMY IF ANSWER CONTAINS\n",
    "## SOCIAL_MEDIA, SITE and starbucks, EMAIL,FRIENDS, STORE, BILLBOARDS, site\n",
    "df_raw['PROMOTIONS_KNOW'] = df_raw['PROMOTIONS_KNOW'].apply(lambda x: x.replace(\" \", \"\")) ## remove spaces\n",
    "df_raw['PROMOTIONS_KNOW'] = df_raw['PROMOTIONS_KNOW'].apply(lambda x: x.lower()) ## lower case\n",
    "df_raw['FG_DIGITAL_MEDIA'] = ((df_raw['PROMOTIONS_KNOW'].str.contains('social'))  | (df_raw['PROMOTIONS_KNOW'].str.contains('deal'))).astype(int)\n",
    "df_raw['FG_STARBUCKS_WEBSITE'] = ((df_raw['PROMOTIONS_KNOW'].str.contains('site'))| (df_raw['PROMOTIONS_KNOW'].str.contains('app')) & (df_raw['PROMOTIONS_KNOW'].str.contains('starb'))).astype(int)\n",
    "df_raw['FG_EMAIL'] = (df_raw['PROMOTIONS_KNOW'].str.contains('email')).astype(int)\n",
    "df_raw['FG_FRIENDS'] = (df_raw['PROMOTIONS_KNOW'].str.contains('friend')).astype(int)\n",
    "df_raw['FG_FISIC'] = ((df_raw['PROMOTIONS_KNOW'].str.contains('store'))|(df_raw['PROMOTIONS_KNOW'].str.contains('billboards'))).astype(int)"
   ]
  },
  {
   "cell_type": "code",
   "execution_count": 13,
   "metadata": {},
   "outputs": [],
   "source": [
    "df_raw.drop(['PROMOTIONS_KNOW'], axis = 1, inplace = True)"
   ]
  },
  {
   "cell_type": "markdown",
   "metadata": {},
   "source": [
    "#### Cleaning NAs"
   ]
  },
  {
   "cell_type": "code",
   "execution_count": 17,
   "metadata": {},
   "outputs": [],
   "source": [
    "cols_num = ['QUALITY_EV', 'PRICE_EV', 'PROMOTIONS_EV',\n",
    "       'AMBIANCE_EV', 'WIFI_EV', 'SERVICE_EV', 'BUSINESS_OR_FRIENDS']"
   ]
  },
  {
   "cell_type": "code",
   "execution_count": 18,
   "metadata": {},
   "outputs": [],
   "source": [
    "df_raw[cols_num] = df_raw[cols_num].apply(lambda x: x.fillna(x.median())) "
   ]
  },
  {
   "cell_type": "code",
   "execution_count": 19,
   "metadata": {},
   "outputs": [],
   "source": [
    "fgs = ['FG_cake', 'FG_coffee', 'FG_colddrinks',\n",
    "       'FG_jawschip', 'FG_juices', 'FG_never', 'FG_pastries', 'FG_sandwiches',\n",
    "       'FG_DIGITAL_MEDIA', 'FG_STARBUCKS_WEBSITE', 'FG_EMAIL', 'FG_FRIENDS',\n",
    "       'FG_FISIC']"
   ]
  },
  {
   "cell_type": "code",
   "execution_count": 20,
   "metadata": {},
   "outputs": [],
   "source": [
    "df_raw[fgs] = df_raw[fgs].replace(np.nan,0 )"
   ]
  },
  {
   "cell_type": "code",
   "execution_count": 21,
   "metadata": {},
   "outputs": [],
   "source": [
    "cols_cat = ['GENDER', 'AGE', 'EMPLOYMENT', 'INCOME', 'FREQUENCY_VISIT',\n",
    "       'HOW_DO_YOU_ENJOY_STARBUCKS', 'TIME_PER_VISIT',\n",
    "       'DISTANCE_TO_NEAREST_STORE', 'MEMBER',\n",
    "       'SPEND_PER_VISIT']"
   ]
  },
  {
   "cell_type": "code",
   "execution_count": 22,
   "metadata": {},
   "outputs": [],
   "source": [
    "df_raw[cols_cat] = df_raw[cols_cat].replace(np.nan,\"Not Answered\")"
   ]
  },
  {
   "cell_type": "markdown",
   "metadata": {},
   "source": [
    "### Exporting to CSV"
   ]
  },
  {
   "cell_type": "code",
   "execution_count": 23,
   "metadata": {},
   "outputs": [],
   "source": [
    "df_raw.to_csv(\"../Data/Cleaned/df.csv\", index = False)"
   ]
  }
 ],
 "metadata": {
  "kernelspec": {
   "display_name": "customer_segmentation",
   "language": "python",
   "name": "customer_segmentation"
  },
  "language_info": {
   "codemirror_mode": {
    "name": "ipython",
    "version": 3
   },
   "file_extension": ".py",
   "mimetype": "text/x-python",
   "name": "python",
   "nbconvert_exporter": "python",
   "pygments_lexer": "ipython3",
   "version": "3.8.5"
  }
 },
 "nbformat": 4,
 "nbformat_minor": 2
}
